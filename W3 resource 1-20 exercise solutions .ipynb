{
 "cells": [
  {
   "cell_type": "markdown",
   "id": "bdefe62e",
   "metadata": {},
   "source": [
    "'''Write a Python program to print the following string in a specific format (see the output).'''\n",
    "\n",
    "Sample String: \"Twinkle, twinkle, little star, How I wonder what you are! Up above the world so high, Like a diamond in the sky. Twinkle, twinkle, little star, How I wonder what you are!\"\n",
    "\n"
   ]
  },
  {
   "cell_type": "code",
   "execution_count": 19,
   "id": "aa8d55c3",
   "metadata": {},
   "outputs": [
    {
     "name": "stdout",
     "output_type": "stream",
     "text": [
      "Twinkle, twinkle, little star,\n",
      "\tHow I wonder what you are!\n",
      "\t\tUp above the world so high,\n",
      "\t\tLike a diamond in the sky.\n",
      "Twinkle, twinkle, little star,\n",
      "\tHow I wonder what you are!\n"
     ]
    }
   ],
   "source": [
    "print(\"Twinkle, twinkle, little star,\\n\\tHow I wonder what you are!\\n\\t\\tUp above the world so high,\\n\\t\\tLike a diamond in the sky.\\nTwinkle, twinkle, little star,\\n\\tHow I wonder what you are!\")"
   ]
  },
  {
   "cell_type": "code",
   "execution_count": 6,
   "id": "fb1a8706",
   "metadata": {},
   "outputs": [],
   "source": [
    "import sys"
   ]
  },
  {
   "cell_type": "code",
   "execution_count": 9,
   "id": "9ea5f156",
   "metadata": {},
   "outputs": [
    {
     "name": "stdout",
     "output_type": "stream",
     "text": [
      "sys.version_info(major=3, minor=8, micro=9, releaselevel='final', serial=0)\n"
     ]
    }
   ],
   "source": [
    "print(sys.version_info)"
   ]
  },
  {
   "cell_type": "code",
   "execution_count": 1,
   "id": "2d769444",
   "metadata": {},
   "outputs": [
    {
     "data": {
      "text/plain": [
       "datetime.date(2022, 11, 17)"
      ]
     },
     "execution_count": 1,
     "metadata": {},
     "output_type": "execute_result"
    }
   ],
   "source": [
    "import datetime\n",
    "datetime.date.today()"
   ]
  },
  {
   "cell_type": "code",
   "execution_count": 2,
   "id": "bb35ba09",
   "metadata": {},
   "outputs": [
    {
     "name": "stdout",
     "output_type": "stream",
     "text": [
      "Current date and time : \n",
      "2022-11-17 14:09:18\n"
     ]
    }
   ],
   "source": [
    "import datetime\n",
    "now = datetime.datetime.now()\n",
    "print (\"Current date and time : \")\n",
    "print (now.strftime(\"%Y-%m-%d %H:%M:%S\"))"
   ]
  },
  {
   "cell_type": "code",
   "execution_count": 3,
   "id": "a91398ec",
   "metadata": {},
   "outputs": [
    {
     "data": {
      "text/plain": [
       "<function datetime.strftime>"
      ]
     },
     "execution_count": 3,
     "metadata": {},
     "output_type": "execute_result"
    }
   ],
   "source": [
    "now.strftime"
   ]
  },
  {
   "cell_type": "markdown",
   "id": "f453c09a",
   "metadata": {},
   "source": [
    "Write a Python program which accepts the radius of a circle from the user and compute the area. Go to the editor\n",
    "Sample Output :\n",
    "r = 1.1\n",
    "Area = 3.8013271108436504"
   ]
  },
  {
   "cell_type": "code",
   "execution_count": 17,
   "id": "a3a7ae9c",
   "metadata": {},
   "outputs": [],
   "source": [
    "from math import pi\n",
    "def Area():\n",
    "    r = float(input(\"enter r:\"))\n",
    "    return str(r) , str(pi*r**2)"
   ]
  },
  {
   "cell_type": "code",
   "execution_count": 18,
   "id": "db7d72c2",
   "metadata": {},
   "outputs": [
    {
     "name": "stdout",
     "output_type": "stream",
     "text": [
      "enter r:1.1\n"
     ]
    },
    {
     "data": {
      "text/plain": [
       "('1.1', '3.8013271108436504')"
      ]
     },
     "execution_count": 18,
     "metadata": {},
     "output_type": "execute_result"
    }
   ],
   "source": [
    "Area()"
   ]
  },
  {
   "cell_type": "code",
   "execution_count": 13,
   "id": "89a4ce79",
   "metadata": {},
   "outputs": [
    {
     "name": "stdout",
     "output_type": "stream",
     "text": [
      "Input the radius of the circle : 1.1\n",
      "The area of the circle with radius 1.1 is: 3.8013271108436504\n"
     ]
    }
   ],
   "source": [
    "from math import pi\n",
    "r = float(input (\"Input the radius of the circle : \"))\n",
    "print (\"The area of the circle with radius \" + str(r) + \" is: \" + str(pi * r**2))"
   ]
  },
  {
   "cell_type": "markdown",
   "id": "6ad18278",
   "metadata": {},
   "source": [
    "Write a Python program which accepts the user's first and last name and print them in reverse order with a space between them. "
   ]
  },
  {
   "cell_type": "code",
   "execution_count": 26,
   "id": "0b366f6f",
   "metadata": {},
   "outputs": [
    {
     "name": "stdout",
     "output_type": "stream",
     "text": [
      "pls enter first name: at\n",
      "pls enter last name: at\n",
      "ta ta\n"
     ]
    }
   ],
   "source": [
    "first = input(\"pls enter first name: \")\n",
    "last = input(\"pls enter last name: \")\n",
    "print((first[::-1] + \" \" + last[::-1]))"
   ]
  },
  {
   "cell_type": "markdown",
   "id": "ac9b4318",
   "metadata": {},
   "source": [
    " Write a Python program which accepts a sequence of comma-separated numbers from user and generate a list and a tuple with those numbers.Sample data : 3, 5, 7, 23\n",
    "Output :\n",
    "List : ['3', ' 5', ' 7', ' 23']"
   ]
  },
  {
   "cell_type": "code",
   "execution_count": 30,
   "id": "a7ce7c81",
   "metadata": {},
   "outputs": [
    {
     "name": "stdout",
     "output_type": "stream",
     "text": [
      "İnput comma seperated nunbers: 3,5,7,23\n",
      "List : ['3', '5', '7', '23']\n",
      "Tuple : ('3', '5', '7', '23')\n"
     ]
    }
   ],
   "source": [
    "Sample = input(\"İnput comma seperated nunbers: \")\n",
    "list = Sample.split(\",\")\n",
    "tuple = tuple(list)\n",
    "print(\"List :\",list)\n",
    "print(\"Tuple :\",tuple)"
   ]
  },
  {
   "cell_type": "code",
   "execution_count": 28,
   "id": "6aedd729",
   "metadata": {},
   "outputs": [
    {
     "data": {
      "text/plain": [
       "[3, 5, 7, 23]"
      ]
     },
     "execution_count": 28,
     "metadata": {},
     "output_type": "execute_result"
    }
   ],
   "source": [
    "list(Sample)"
   ]
  },
  {
   "cell_type": "code",
   "execution_count": 29,
   "id": "d022fa11",
   "metadata": {},
   "outputs": [
    {
     "data": {
      "text/plain": [
       "(3, 5, 7, 23)"
      ]
     },
     "execution_count": 29,
     "metadata": {},
     "output_type": "execute_result"
    }
   ],
   "source": [
    "tuple(Sample)"
   ]
  },
  {
   "cell_type": "markdown",
   "id": "8b8e104b",
   "metadata": {},
   "source": [
    "Write a Python program to accept a filename from the user and print the extension of that. Go to the editor\n",
    "Sample filename : abc.java\n",
    "Output : java"
   ]
  },
  {
   "cell_type": "code",
   "execution_count": 32,
   "id": "a4623435",
   "metadata": {},
   "outputs": [
    {
     "name": "stdout",
     "output_type": "stream",
     "text": [
      "enter a file name: abc.java\n",
      "java\n"
     ]
    }
   ],
   "source": [
    "a = input(\"enter a file name: \")\n",
    "print(a.split(\".\")[1])"
   ]
  },
  {
   "cell_type": "markdown",
   "id": "5826898c",
   "metadata": {},
   "source": [
    "Write a Python program to display the first and last colors from the following list. Go to the editor\n",
    "color_list = [\"Red\",\"Green\",\"White\" ,\"Black\"]"
   ]
  },
  {
   "cell_type": "code",
   "execution_count": 33,
   "id": "bdc5a131",
   "metadata": {},
   "outputs": [],
   "source": [
    "color_list = [\"Red\",\"Green\",\"White\" ,\"Black\"]"
   ]
  },
  {
   "cell_type": "code",
   "execution_count": 34,
   "id": "6181e9fb",
   "metadata": {},
   "outputs": [
    {
     "name": "stdout",
     "output_type": "stream",
     "text": [
      "Red Black\n"
     ]
    }
   ],
   "source": [
    "print(color_list[0],color_list[-1])"
   ]
  },
  {
   "cell_type": "markdown",
   "id": "3f464787",
   "metadata": {},
   "source": [
    "Write a Python program to display the examination schedule. (extract the date from exam_st_date). Go to the editor\n",
    "exam_st_date = (11, 12, 2014)\n",
    "Sample Output : The examination will start from : 11 / 12 / 2014"
   ]
  },
  {
   "cell_type": "code",
   "execution_count": 35,
   "id": "2e718f7a",
   "metadata": {},
   "outputs": [],
   "source": [
    " exam_st_date = (11, 12, 2014) "
   ]
  },
  {
   "cell_type": "code",
   "execution_count": 36,
   "id": "933fa887",
   "metadata": {},
   "outputs": [
    {
     "name": "stdout",
     "output_type": "stream",
     "text": [
      " The examination will start from : 11/ 12 / 2014\n"
     ]
    }
   ],
   "source": [
    "print(f\" The examination will start from : {exam_st_date[0]}/ {exam_st_date[1]} / {exam_st_date[2]}\")"
   ]
  },
  {
   "cell_type": "markdown",
   "id": "d0b556c2",
   "metadata": {},
   "source": [
    "Write a Python program that accepts an integer (n) and computes the value of n+nn+nnn. Go to the editor\n",
    "Sample value of n is 5\n",
    "Expected Result : 615"
   ]
  },
  {
   "cell_type": "code",
   "execution_count": 38,
   "id": "10b56f4d",
   "metadata": {},
   "outputs": [
    {
     "name": "stdout",
     "output_type": "stream",
     "text": [
      "enter a number: 5\n",
      "615\n"
     ]
    }
   ],
   "source": [
    "n = int(input(\"enter a number: \"))\n",
    "a = n + n*11 + n*111\n",
    "print(a)"
   ]
  },
  {
   "cell_type": "markdown",
   "id": "5bdfbdf3",
   "metadata": {},
   "source": [
    " Write a Python program to print the documents (syntax, description etc.) of Python built-in function(s).\n",
    "Sample function : abs()\n",
    "\n",
    "Expected Result :\n",
    "abs(number) -> number\n",
    "Return the absolute value of the argument"
   ]
  },
  {
   "cell_type": "code",
   "execution_count": 39,
   "id": "45ac89ec",
   "metadata": {},
   "outputs": [
    {
     "name": "stdout",
     "output_type": "stream",
     "text": [
      "Return the absolute value of the argument.\n"
     ]
    }
   ],
   "source": [
    "print(abs.__doc__)"
   ]
  },
  {
   "cell_type": "code",
   "execution_count": 40,
   "id": "7bc0eb55",
   "metadata": {},
   "outputs": [
    {
     "name": "stdout",
     "output_type": "stream",
     "text": [
      "Return a Unicode string of one character with ordinal i; 0 <= i <= 0x10ffff.\n"
     ]
    }
   ],
   "source": [
    "print(chr.__doc__)"
   ]
  },
  {
   "cell_type": "markdown",
   "id": "75533f45",
   "metadata": {},
   "source": [
    "Write a Python program to print the calendar of a given month and year.\n",
    "Note : Use 'calendar' module."
   ]
  },
  {
   "cell_type": "code",
   "execution_count": 42,
   "id": "2f30ad33",
   "metadata": {},
   "outputs": [],
   "source": [
    "import calendar"
   ]
  },
  {
   "cell_type": "code",
   "execution_count": 43,
   "id": "3659ba41",
   "metadata": {},
   "outputs": [
    {
     "name": "stdout",
     "output_type": "stream",
     "text": [
      "enter the year: 2022\n",
      "enter the month: 11\n",
      "   November 2022\n",
      "Mo Tu We Th Fr Sa Su\n",
      "    1  2  3  4  5  6\n",
      " 7  8  9 10 11 12 13\n",
      "14 15 16 17 18 19 20\n",
      "21 22 23 24 25 26 27\n",
      "28 29 30\n",
      "\n"
     ]
    }
   ],
   "source": [
    "y = int(input(\"enter the year: \"))\n",
    "m = int(input(\"enter the month: \"))\n",
    "print(calendar.month(y,m))"
   ]
  },
  {
   "cell_type": "markdown",
   "id": "c1ac8618",
   "metadata": {},
   "source": [
    "Write a Python program to print the following 'here document'. Go to the editor\n",
    "Sample string :\n",
    "a string that you \"don't\" have to escape\n",
    "This\n",
    "is a ....... multi-line\n",
    "heredoc string --------> example"
   ]
  },
  {
   "cell_type": "code",
   "execution_count": 44,
   "id": "3cc91b66",
   "metadata": {},
   "outputs": [
    {
     "name": "stdout",
     "output_type": "stream",
     "text": [
      "\n",
      "a string that you \"don't\" have to escape\n",
      "This\n",
      "is a  ....... multi-line\n",
      "heredoc string --------> example\n",
      "\n"
     ]
    }
   ],
   "source": [
    "print(\"\"\"\n",
    "a string that you \"don't\" have to escape\n",
    "This\n",
    "is a  ....... multi-line\n",
    "heredoc string --------> example\n",
    "\"\"\")"
   ]
  },
  {
   "cell_type": "markdown",
   "id": "b74a16cc",
   "metadata": {},
   "source": [
    "Write a Python program to calculate number of days between two dates.\n",
    "Sample dates : (2014, 7, 2), (2014, 7, 11)\n",
    "Expected output : 9 days"
   ]
  },
  {
   "cell_type": "code",
   "execution_count": 46,
   "id": "1e677424",
   "metadata": {},
   "outputs": [],
   "source": [
    "from datetime import date"
   ]
  },
  {
   "cell_type": "code",
   "execution_count": 50,
   "id": "c3c50e0c",
   "metadata": {},
   "outputs": [],
   "source": [
    "date1 = date(2023,9,13)\n",
    "date2 = date(2022,11,17)"
   ]
  },
  {
   "cell_type": "code",
   "execution_count": 53,
   "id": "4b0c23a1",
   "metadata": {},
   "outputs": [
    {
     "name": "stdout",
     "output_type": "stream",
     "text": [
      "300\n"
     ]
    }
   ],
   "source": [
    "print((date1 - date2).days)"
   ]
  },
  {
   "cell_type": "markdown",
   "id": "3c49565f",
   "metadata": {},
   "source": [
    "Write a Python program to get the volume of a sphere with radius 6"
   ]
  },
  {
   "cell_type": "code",
   "execution_count": 54,
   "id": "d6125634",
   "metadata": {},
   "outputs": [],
   "source": [
    "from math import pi"
   ]
  },
  {
   "cell_type": "code",
   "execution_count": 55,
   "id": "1acc164c",
   "metadata": {},
   "outputs": [
    {
     "name": "stdout",
     "output_type": "stream",
     "text": [
      "904.7786842338603\n"
     ]
    }
   ],
   "source": [
    "r = 6\n",
    "print((4/3) * pi * (r**3))"
   ]
  },
  {
   "cell_type": "markdown",
   "id": "8350eeea",
   "metadata": {},
   "source": [
    "Write a Python program to get the difference between a given number and 17, if the number is greater than 17 return double the absolute difference."
   ]
  },
  {
   "cell_type": "code",
   "execution_count": 57,
   "id": "c6f7b906",
   "metadata": {},
   "outputs": [
    {
     "name": "stdout",
     "output_type": "stream",
     "text": [
      "enter a num: 15\n",
      "-2\n"
     ]
    }
   ],
   "source": [
    "n = int(input(\"enter a num: \"))\n",
    "if n > 17:\n",
    "    print(abs(n-17)*2)\n",
    "else:\n",
    "    print(n-17)"
   ]
  },
  {
   "cell_type": "markdown",
   "id": "42020cb0",
   "metadata": {},
   "source": [
    " Write a Python program to test whether a number is within 100 of 1000 or 2000"
   ]
  },
  {
   "cell_type": "code",
   "execution_count": 64,
   "id": "26f93a1b",
   "metadata": {},
   "outputs": [
    {
     "data": {
      "text/plain": [
       "'def num(n):\\n    if n <=100:\\n        print(\"number isn\\'t within 100 of 1000\")\\n    elif n >=100 and n <= 1000:\\n        print(\"number is within 100 of 1000\")\\n    elif n > 1000 and n <= 2000:\\n        print(\"number is within 1000 of 2000\")\\n    else:    \\n        print(\"number isn\\'t within 1000 of 2000\")\\n        '"
      ]
     },
     "execution_count": 64,
     "metadata": {},
     "output_type": "execute_result"
    }
   ],
   "source": [
    "'''def num(n):\n",
    "    if n <=100:\n",
    "        print(\"number isn't within 100 of 1000\")\n",
    "    elif n >=100 and n <= 1000:\n",
    "        print(\"number is within 100 of 1000\")\n",
    "    elif n > 1000 and n <= 2000:\n",
    "        print(\"number is within 1000 of 2000\")\n",
    "    else:    \n",
    "        print(\"number isn't within 1000 of 2000\")\n",
    "        '''\n"
   ]
  },
  {
   "cell_type": "code",
   "execution_count": 62,
   "id": "bb597221",
   "metadata": {},
   "outputs": [
    {
     "name": "stdout",
     "output_type": "stream",
     "text": [
      "number is within 1000 of 2000\n"
     ]
    }
   ],
   "source": [
    "num(1001)"
   ]
  },
  {
   "cell_type": "code",
   "execution_count": 63,
   "id": "f7519ed0",
   "metadata": {},
   "outputs": [
    {
     "name": "stdout",
     "output_type": "stream",
     "text": [
      "True\n",
      "True\n",
      "False\n",
      "False\n"
     ]
    }
   ],
   "source": [
    "def near_thousand(n):\n",
    "      return ((abs(1000 - n) <= 100) or (abs(2000 - n) <= 100))\n",
    "print(near_thousand(1000))\n",
    "print(near_thousand(900))\n",
    "print(near_thousand(800))   \n",
    "print(near_thousand(2200))"
   ]
  },
  {
   "cell_type": "markdown",
   "id": "0be29fca",
   "metadata": {},
   "source": [
    "Write a Python program to calculate the sum of three given numbers, if the values are equal then return three times of their sum. "
   ]
  },
  {
   "cell_type": "code",
   "execution_count": 68,
   "id": "f2b4ee4a",
   "metadata": {},
   "outputs": [],
   "source": [
    "def summ(a,b,c):\n",
    "    if a == b == c:\n",
    "        return a*3\n",
    "    else:\n",
    "        return a+b+c"
   ]
  },
  {
   "cell_type": "code",
   "execution_count": 69,
   "id": "78dcf061",
   "metadata": {},
   "outputs": [
    {
     "data": {
      "text/plain": [
       "3"
      ]
     },
     "execution_count": 69,
     "metadata": {},
     "output_type": "execute_result"
    }
   ],
   "source": [
    "summ(1,2,3)\n",
    "summ(1,1,1)"
   ]
  },
  {
   "cell_type": "code",
   "execution_count": 70,
   "id": "311170fc",
   "metadata": {},
   "outputs": [
    {
     "data": {
      "text/plain": [
       "6"
      ]
     },
     "execution_count": 70,
     "metadata": {},
     "output_type": "execute_result"
    }
   ],
   "source": [
    "summ(1,2,3)"
   ]
  },
  {
   "cell_type": "markdown",
   "id": "4c1bbf9e",
   "metadata": {},
   "source": [
    "Write a Python program to get a new string from a given string where \"Is\" has been added to the front. If the given string already begins with \"Is\" then return the string unchanged."
   ]
  },
  {
   "cell_type": "code",
   "execution_count": 71,
   "id": "957495d9",
   "metadata": {},
   "outputs": [],
   "source": [
    "def new(str):\n",
    "    if str[0:2] == \"Is\":\n",
    "        return str\n",
    "    else:\n",
    "        return \"Is\" + str"
   ]
  },
  {
   "cell_type": "code",
   "execution_count": 72,
   "id": "ee64bc75",
   "metadata": {},
   "outputs": [
    {
     "data": {
      "text/plain": [
       "'IsEMP'"
      ]
     },
     "execution_count": 72,
     "metadata": {},
     "output_type": "execute_result"
    }
   ],
   "source": [
    "new(\"EMP\")"
   ]
  },
  {
   "cell_type": "code",
   "execution_count": 73,
   "id": "3fe59e8c",
   "metadata": {},
   "outputs": [
    {
     "data": {
      "text/plain": [
       "'IsEMP'"
      ]
     },
     "execution_count": 73,
     "metadata": {},
     "output_type": "execute_result"
    }
   ],
   "source": [
    "new(\"IsEMP\")"
   ]
  },
  {
   "cell_type": "markdown",
   "id": "44a0ab18",
   "metadata": {},
   "source": [
    " Write a Python program to get a string which is n (non-negative integer) copies of a given string."
   ]
  },
  {
   "cell_type": "code",
   "execution_count": 75,
   "id": "9bce56bc",
   "metadata": {},
   "outputs": [],
   "source": [
    "def new(str,n):\n",
    "    return str * n"
   ]
  },
  {
   "cell_type": "code",
   "execution_count": 76,
   "id": "9ebb29c5",
   "metadata": {},
   "outputs": [
    {
     "data": {
      "text/plain": [
       "'atat'"
      ]
     },
     "execution_count": 76,
     "metadata": {},
     "output_type": "execute_result"
    }
   ],
   "source": [
    "new(\"at\",2)"
   ]
  },
  {
   "cell_type": "code",
   "execution_count": null,
   "id": "aa34b80c",
   "metadata": {},
   "outputs": [],
   "source": []
  }
 ],
 "metadata": {
  "kernelspec": {
   "display_name": "Python 3 (ipykernel)",
   "language": "python",
   "name": "python3"
  },
  "language_info": {
   "codemirror_mode": {
    "name": "ipython",
    "version": 3
   },
   "file_extension": ".py",
   "mimetype": "text/x-python",
   "name": "python",
   "nbconvert_exporter": "python",
   "pygments_lexer": "ipython3",
   "version": "3.8.9"
  }
 },
 "nbformat": 4,
 "nbformat_minor": 5
}
